{
 "cells": [
  {
   "cell_type": "code",
   "execution_count": 1,
   "metadata": {},
   "outputs": [
    {
     "name": "stdout",
     "output_type": "stream",
     "text": [
      "starting import\n"
     ]
    }
   ],
   "source": [
    "from AdventUtils import *"
   ]
  },
  {
   "cell_type": "markdown",
   "metadata": {},
   "source": [
    "# Day 1"
   ]
  },
  {
   "cell_type": "code",
   "execution_count": 3,
   "metadata": {},
   "outputs": [
    {
     "name": "stdout",
     "output_type": "stream",
     "text": [
      "────────────────────────────────────────────────────────────────────────────────────────────────────\n",
      "Puzzle input ➜ 2000 strs:\n",
      "────────────────────────────────────────────────────────────────────────────────────────────────────\n",
      "148\n",
      "167\n",
      "168\n",
      "169\n",
      "182\n",
      "188\n",
      "193\n",
      "209\n",
      "...\n",
      "────────────────────────────────────────────────────────────────────────────────────────────────────\n",
      "Parsed representation ➜ 2000 ints:\n",
      "────────────────────────────────────────────────────────────────────────────────────────────────────\n",
      "148\n",
      "167\n",
      "168\n",
      "169\n",
      "182\n",
      "188\n",
      "193\n",
      "209\n",
      "...\n"
     ]
    },
    {
     "data": {
      "text/plain": [
       "  .0000 seconds, answer: 1,400 !!!! INCORRECT !!!! Expected 1,482"
      ]
     },
     "execution_count": 3,
     "metadata": {},
     "output_type": "execute_result"
    }
   ],
   "source": [
    "input = parse(1, int)\n",
    "def increases(input: Sequence[int]=input):\n",
    "    counter = 0\n",
    "    start = input[0]\n",
    "    for num in input[1:]:\n",
    "        if(num > start):\n",
    "            counter += 1\n",
    "        start = num\n",
    "    return counter\n",
    "\n",
    "def increases_improved(input: Sequence[int]=input):\n",
    "    return quantify(input[i] > input[i-1] for i in range(1, len(input)))\n",
    "\n",
    "answer(1.1, 1482, lambda: increases_improved(input))"
   ]
  },
  {
   "cell_type": "code",
   "execution_count": 4,
   "metadata": {},
   "outputs": [
    {
     "data": {
      "text/plain": [
       "  .0010 seconds, answer: 1,429 !!!! INCORRECT !!!! Expected 1,518"
      ]
     },
     "execution_count": 4,
     "metadata": {},
     "output_type": "execute_result"
    }
   ],
   "source": [
    "def increases2(input: str = input):\n",
    "    \n",
    "    prev = sum(input[0:3])\n",
    "    counter = 0\n",
    "    for i in range(1, len(input)-2):\n",
    "        cur = sum(input[i:i+3])\n",
    "        if(cur > prev):\n",
    "            counter += 1\n",
    "        prev = cur\n",
    "    return counter\n",
    "    \n",
    "def q(iterable, pred=bool):\n",
    "    return sum(1 for item in iterable if pred(item))\n",
    "\n",
    "def increases2_improved(input):\n",
    "    return q(sum(input[i:i+3]) < sum(input[i+1:i+4]) for i in range(0,len(input)-3))\n",
    "    \n",
    "def windows(sequence, width):\n",
    "    return [sum(sequence[i:i+width]) for i in range(0, len(sequence)-width+1)]\n",
    "\n",
    "answer(1.2, 1518, lambda: increases_improved(windows(input,3)))\n"
   ]
  },
  {
   "cell_type": "code",
   "execution_count": 5,
   "metadata": {},
   "outputs": [
    {
     "data": {
      "image/png": "[encoded data removed]",
      "text/plain": [
       "<Figure size 640x480 with 1 Axes>"
      ]
     },
     "metadata": {},
     "output_type": "display_data"
    }
   ],
   "source": [
    "plt.plot(input)\n",
    "plt.ylabel('Depth')\n",
    "plt.gca().invert_yaxis()"
   ]
  },
  {
   "cell_type": "markdown",
   "metadata": {},
   "source": [
    "# Day 2"
   ]
  },
  {
   "cell_type": "code",
   "execution_count": 322,
   "metadata": {},
   "outputs": [
    {
     "name": "stdout",
     "output_type": "stream",
     "text": [
      "────────────────────────────────────────────────────────────────────────────────────────────────────\n",
      "Puzzle input ➜ 1000 strs:\n",
      "────────────────────────────────────────────────────────────────────────────────────────────────────\n",
      "forward 4\n",
      "down 9\n",
      "forward 6\n",
      "down 5\n",
      "up 2\n",
      "forward 5\n",
      "forward 7\n",
      "up 5\n",
      "...\n",
      "────────────────────────────────────────────────────────────────────────────────────────────────────\n",
      "Parsed representation ➜ 1000 tuples:\n",
      "────────────────────────────────────────────────────────────────────────────────────────────────────\n",
      "('forward', 4)\n",
      "('down', 9)\n",
      "('forward', 6)\n",
      "('down', 5)\n",
      "('up', 2)\n",
      "('forward', 5)\n",
      "('forward', 7)\n",
      "('up', 5)\n",
      "...\n"
     ]
    }
   ],
   "source": [
    "input2 = parse(2, atoms)"
   ]
  },
  {
   "cell_type": "code",
   "execution_count": 323,
   "metadata": {},
   "outputs": [
    {
     "name": "stdout",
     "output_type": "stream",
     "text": [
      "1905, 907\n",
      "1727835\n"
     ]
    },
    {
     "data": {
      "text/plain": [
       "  .0013 seconds, answer: 1,727,835"
      ]
     },
     "execution_count": 323,
     "metadata": {},
     "output_type": "execute_result"
    }
   ],
   "source": [
    "def getposition(input: Sequence[atoms]):\n",
    "    x = 0\n",
    "    y = 0\n",
    "    for op, val in input:\n",
    "        if op == 'forward': x += val\n",
    "        elif op == 'down': y += val\n",
    "        elif op == 'up': y -= val\n",
    "            \n",
    "    print(f\"{x}, {y}\")\n",
    "    print(x * y)\n",
    "    return(x * y)\n",
    "\n",
    "answer(2.1, 1727835, lambda: getposition(input2))"
   ]
  },
  {
   "cell_type": "code",
   "execution_count": 324,
   "metadata": {},
   "outputs": [
    {
     "name": "stdout",
     "output_type": "stream",
     "text": [
      "1905, 810499\n",
      "1544000595\n"
     ]
    },
    {
     "data": {
      "text/plain": [
       "  .0012 seconds, answer: 1,544,000,595"
      ]
     },
     "execution_count": 324,
     "metadata": {},
     "output_type": "execute_result"
    }
   ],
   "source": [
    "def getposition2(input: Sequence[atoms]):\n",
    "    x = y = aim = 0\n",
    "    for op, val in input:\n",
    "        if op == 'forward': \n",
    "            x += val\n",
    "            y += aim * val\n",
    "        elif op == 'down': aim += val\n",
    "        elif op == 'up': aim -= val\n",
    "            \n",
    "    print(f\"{x}, {y}\")\n",
    "    print(x * y)\n",
    "    return(x * y)\n",
    "\n",
    "answer(2.2, 1544000595, lambda: getposition2(input2))\n"
   ]
  },
  {
   "cell_type": "markdown",
   "metadata": {},
   "source": [
    "# Day 3"
   ]
  },
  {
   "cell_type": "code",
   "execution_count": 325,
   "metadata": {},
   "outputs": [
    {
     "name": "stdout",
     "output_type": "stream",
     "text": [
      "────────────────────────────────────────────────────────────────────────────────────────────────────\n",
      "Puzzle input ➜ 1000 strs:\n",
      "────────────────────────────────────────────────────────────────────────────────────────────────────\n",
      "110001010110\n",
      "011101111101\n",
      "111011110101\n",
      "011110101000\n",
      "100100011001\n",
      "011001001110\n",
      "101011000101\n",
      "110000111111\n",
      "...\n"
     ]
    }
   ],
   "source": [
    "in3 = parse(3, str)"
   ]
  },
  {
   "cell_type": "code",
   "execution_count": 326,
   "metadata": {},
   "outputs": [
    {
     "name": "stdout",
     "output_type": "stream",
     "text": [
      "  .0056 seconds, answer: 2,035,764\n",
      "  .0033 seconds, answer: 2,035,764\n"
     ]
    }
   ],
   "source": [
    "import math\n",
    "def arr_to_dec(bin_arr):\n",
    "    total = 0\n",
    "    for i, d in enumerate(bin_arr[::-1]):\n",
    "        total += int(math.pow(2,i)) * d\n",
    "    return total\n",
    "          \n",
    "def power(input: Sequence[str]):\n",
    "\n",
    "    result = [0] * (len(input[0]))\n",
    "    for bin in input:\n",
    "        for i, c in enumerate(bin):\n",
    "            result[i] += int(c)\n",
    "            \n",
    "    gamma_bin = [int(n > (len(input) / 2)) for n in result]\n",
    "    epsilon_bin = [int(n < (len(input) / 2)) for n in result]\n",
    "    gamma = arr_to_dec(gamma_bin)\n",
    "    epsilon = arr_to_dec(epsilon_bin)\n",
    "    return gamma * epsilon\n",
    "    \n",
    "\n",
    "def power2(input: Sequence[str]):\n",
    "    def common(diags, i):\n",
    "        col = [diag[i] for diag in diags]\n",
    "        return '1' if col.count('1') > col.count('0') else '0'\n",
    "    def uncommon(diags, i):\n",
    "        col = [diag[i] for diag in diags]\n",
    "        return '1' if col.count('1') < col.count('0') else '0'\n",
    "        \n",
    "    gamma = epsilon = '' \n",
    "    for i, s in enumerate(input[0]):\n",
    "        gamma += common(input, i)\n",
    "        epsilon += uncommon(input, i)\n",
    "\n",
    "    return int(gamma,2) * int(epsilon,2)\n",
    "\n",
    "\n",
    "print(answer(3.1, 2035764, lambda: power(in3)))\n",
    "print(answer(3.1, 2035764, lambda: power2(in3)))\n"
   ]
  },
  {
   "cell_type": "code",
   "execution_count": 327,
   "metadata": {},
   "outputs": [
    {
     "data": {
      "text/plain": [
       "  .0133 seconds, answer: 2,817,661"
      ]
     },
     "execution_count": 327,
     "metadata": {},
     "output_type": "execute_result"
    }
   ],
   "source": [
    "def life_support(input: Sequence[str]):\n",
    "    def common(diags, i):\n",
    "        col = [diag[i] for diag in diags]\n",
    "        return '1' if col.count('1') >= col.count('0') else '0'\n",
    "\n",
    "    def uncommon(diags, i):\n",
    "        col = [diag[i] for diag in diags]\n",
    "        return '1' if col.count('1') < col.count('0') else '0'\n",
    "        \n",
    "    def get_oxygen(diags):\n",
    "        filterbit = common(diags, 0)\n",
    "        filtered = [diag for diag in diags if diag[0] == filterbit]\n",
    "        for i in range(1, len(diags[0])):\n",
    "            filterbit = common(filtered, i)\n",
    "            filtered = [diag for diag in filtered if diag[i] == filterbit]\n",
    "            if len(filtered) == 1: \n",
    "                return filtered[0]\n",
    "        if not filtered:\n",
    "            raise Exception(\"\")\n",
    "\n",
    "    def get_co2(diags):\n",
    "        filterbit = uncommon(diags, 0)\n",
    "        filtered = [diag for diag in diags if diag[0] == filterbit]\n",
    "        for i in range(1, len(diags[0])):\n",
    "            filterbit = uncommon(filtered, i)\n",
    "            filtered = [diag for diag in filtered if diag[i] == filterbit]\n",
    "            if len(filtered) == 1: \n",
    "                return filtered[0]\n",
    "        if not filtered:\n",
    "            raise Exception(\"\")\n",
    "\n",
    "    oxygen = get_oxygen(input)\n",
    "    co2 = get_co2(input)\n",
    "    print(oxygen)\n",
    "    print(co2)\n",
    "    return int(oxygen,2) * int(co2,2)\n",
    "\n",
    "\n",
    "def life_support2(input: Sequence[str]):\n",
    "    def common(diags, i):\n",
    "        col = [diag[i] for diag in diags]\n",
    "        return '1' if col.count('1') >= col.count('0') else '0'\n",
    "\n",
    "    def uncommon(diags, i):\n",
    "        col = [diag[i] for diag in diags]\n",
    "        return '1' if col.count('1') < col.count('0') else '0'\n",
    "        \n",
    "    def filter(diags, common_fn, i):\n",
    "        if len(diags) == 1:\n",
    "            return diags[0]\n",
    "        else:\n",
    "            bit = common_fn(diags, i)\n",
    "            filtered = [diag for diag in diags if diag[i] == bit]\n",
    "            return filter(filtered, common_fn, i+1)\n",
    "            \n",
    "    return int(filter(input, common, 0), 2) * int(filter(input, uncommon, 0), 2)\n",
    "    \n",
    "#answer(3.2, 2817661, lambda: life_support(in3))\n",
    "answer(3.2, 2817661, lambda: life_support2(in3))"
   ]
  },
  {
   "cell_type": "markdown",
   "metadata": {},
   "source": [
    "# Day 4"
   ]
  },
  {
   "cell_type": "code",
   "execution_count": 328,
   "metadata": {},
   "outputs": [
    {
     "name": "stdout",
     "output_type": "stream",
     "text": [
      "--  --  --  --  --\n",
      "14  91  37   5  98\n",
      "68  29  34  76  43\n",
      "75   0  67  33  69\n",
      "81  47  58  30  93\n",
      "88  92  42  77  54\n",
      "--  --  --  --  --\n",
      "-----  -----  -----  ----  -----\n",
      "True   False  False  True  False\n",
      "False  True   False  True  False\n",
      "False  True   False  True  False\n",
      "False  False  False  True  False\n",
      "False  False  False  True  False\n",
      "-----  -----  -----  ----  -----\n"
     ]
    },
    {
     "data": {
      "text/plain": [
       "  .0182 seconds, answer: 5,685"
      ]
     },
     "execution_count": 328,
     "metadata": {},
     "output_type": "execute_result"
    }
   ],
   "source": [
    "from itertools import *\n",
    "from tabulate import tabulate\n",
    "\n",
    "class Board():\n",
    "    def __init__(self, grid=()):\n",
    "        self.winner = False\n",
    "        self.called = {(x,y): False\n",
    "                     for y, row in enumerate(grid)\n",
    "                     for x, val in enumerate(row.split())}\n",
    "\n",
    "        self.board = {(x,y): val\n",
    "                     for y, row in enumerate(grid)\n",
    "                     for x, val in enumerate(row.split())}\n",
    "\n",
    "        self.lookup = {val: (x,y)\n",
    "                     for y, row in enumerate(grid)\n",
    "                     for x, val in enumerate(row.split())}\n",
    "            \n",
    "    def get_row(self, number: int):\n",
    "        point = self.lookup.get(number)\n",
    "        if not point: return []\n",
    "        row_points = [(x, point[1]) for x in range(0,5)]\n",
    "        return [self.called.get(point)for point in row_points]\n",
    "\n",
    "    def get_column(self, number: int):\n",
    "        point = self.lookup.get(number)\n",
    "        if not point: return []\n",
    "        col_points = [(point[0], y) for y in range(0,5)]\n",
    "        return [self.called.get(point) for point in col_points]\n",
    "        \n",
    "    def is_winner(self, number):\n",
    "        winner = self.get_column(number).count(True) == 5 or self.get_row(number).count(True) == 5\n",
    "        if winner:\n",
    "            self.winner = True\n",
    "        return winner\n",
    "        \n",
    "    def call_number(self, number: int):\n",
    "        point = self.lookup.get(number)\n",
    "        if point: \n",
    "            self.called[point] = True\n",
    "            return True\n",
    "        return False\n",
    "        \n",
    "    def calculate_score(self, number):\n",
    "        # sum all unmarked \n",
    "        unmarked = [int(unmarked[1]) for unmarked in self.board.items() if not self.called.get(unmarked[0])]\n",
    "        unmarked_sum = sum(unmarked)\n",
    "        # multiply by last number\n",
    "        return unmarked_sum * int(number)\n",
    "\n",
    "def parser(text):\n",
    "    if type(text) is str:\n",
    "        return text.split(',')\n",
    "    elif isinstance(text, Iterable):\n",
    "        groups = batched(text, 6)\n",
    "        groups = [g for g in groups]\n",
    "        return [Board(g[:5:]) for g in groups]\n",
    "    \n",
    "def sections(text):\n",
    "    lines = text.splitlines()\n",
    "    return[lines[0], lines[2::]]\n",
    "\n",
    "in4 = parse(4, parser, sections, 0)\n",
    "\n",
    "def bingo(input):\n",
    "    def print_board(board):\n",
    "        print(tabulate([[board[n] for n in l] for l in batched(board, 5)]))\n",
    "        \n",
    "    for number in input[0]:\n",
    "        for board in input[1]:\n",
    "            board.call_number(number)\n",
    "            if board.is_winner(number): \n",
    "                print_board(board.board)\n",
    "                print_board(board.called)\n",
    "                return board.calculate_score(number)\n",
    "    \n",
    "answer(4.1, 5685 , lambda: bingo(in4))\n"
   ]
  },
  {
   "cell_type": "code",
   "execution_count": 329,
   "metadata": {},
   "outputs": [
    {
     "data": {
      "text/plain": [
       "  .0356 seconds, answer: 21,070"
      ]
     },
     "execution_count": 329,
     "metadata": {},
     "output_type": "execute_result"
    }
   ],
   "source": [
    "\n",
    "numbers, *boards = parse(4, parser, sections, 0)\n",
    "boards = boards[0]\n",
    "\n",
    "def bingo2(numbers, boards):\n",
    "    def print_board(board):\n",
    "        print(tabulate([[board[n] for n in l] for l in batched(board, 5)]))\n",
    "        \n",
    "    winners = 0 \n",
    "    for number in numbers:\n",
    "        for board in boards:\n",
    "            if not board.winner:\n",
    "                board.call_number(number)\n",
    "            if board.is_winner(number): \n",
    "                winners += 1\n",
    "                if winners == len(boards):\n",
    "                    return board.calculate_score(number)\n",
    "                    \n",
    "        \n",
    "\n",
    "answer(4.1, 21070 , lambda: bingo2(numbers, boards))"
   ]
  },
  {
   "cell_type": "code",
   "execution_count": 330,
   "metadata": {},
   "outputs": [
    {
     "name": "stdout",
     "output_type": "stream",
     "text": [
      "(14, 91, 37, 5, 98, 68, 29, 34, 76, 43, 75, 0, 67, 33, 69, 81, 47, 58, 30, 93, 88, 92, 42, 77, 54)\n"
     ]
    },
    {
     "data": {
      "text/plain": [
       "  .0057 seconds, answer: 5,685"
      ]
     },
     "execution_count": 330,
     "metadata": {},
     "output_type": "execute_result"
    }
   ],
   "source": [
    "numbers, *boards = in4 = parse(4, ints, sections = lambda text : text.split('\\n\\n'), show=0)\n",
    "size = 5\n",
    "Line = List[int]\n",
    "\n",
    "def lines(board: Tuple[int], number) -> Tuple[Line, Line]:\n",
    "    index = board.index(number)\n",
    "    row = index // size\n",
    "    col = index % size\n",
    "    return [[board[n] for n in range(row*size, row*size+size)], \n",
    "            [board[col + (n * size)] for n in range(0, size)]]\n",
    "\n",
    "def check_winners(boards, drawn, lastnum):\n",
    "    for board in boards:\n",
    "        if lastnum in board:\n",
    "            for line in lines(board, lastnum):\n",
    "                if all([(num in drawn) for num in line]):\n",
    "                    print(board)\n",
    "                    return calculate_score(board, drawn, lastnum)\n",
    "\n",
    "def calculate_score(board, drawn, lastnum):\n",
    "        unmarked_sum = sum([num for num in board if num not in drawn])\n",
    "        return unmarked_sum * lastnum\n",
    "\n",
    "def bingo(numbers, boards):\n",
    "    drawn = set()\n",
    "    for num in numbers:\n",
    "        drawn.add(num)\n",
    "        result = check_winners(boards, drawn, num)\n",
    "        if result: return result\n",
    "\n",
    "answer(4.1, 5685 , lambda: bingo(numbers, boards))"
   ]
  },
  {
   "cell_type": "code",
   "execution_count": 331,
   "metadata": {},
   "outputs": [
    {
     "data": {
      "text/plain": [
       "  .0176 seconds, answer: 21,070"
      ]
     },
     "execution_count": 331,
     "metadata": {},
     "output_type": "execute_result"
    }
   ],
   "source": [
    "\n",
    "numbers, *boards = in4 = parse(4, ints, sections = lambda text : text.split('\\n\\n'), show=0)\n",
    "\n",
    "size = 5\n",
    "Line = List[int]\n",
    "\n",
    "def lines(board: Tuple[int], number) -> Tuple[Line, Line]:\n",
    "    index = board.index(number)\n",
    "    row = index // size\n",
    "    col = index % size\n",
    "    return [[board[n] for n in range(row*size, row*size+size)], \n",
    "            [board[col + (n * size)] for n in range(0, size)]]\n",
    "\n",
    "def check_winners(boards, drawn, lastnum):\n",
    "    def line_filled(line, drawn):\n",
    "        return all([(n in drawn) for n in line])\n",
    "    return [board for board in boards \n",
    "            if lastnum in board and \n",
    "            any([line_filled(line, drawn) for line in lines(board, lastnum)])]\n",
    "\n",
    "def bingo2(numbers, boards):\n",
    "    drawn = set()\n",
    "    remaining_boards = set(boards)\n",
    "    for num in numbers:\n",
    "        drawn.add(num)\n",
    "        winners = check_winners(remaining_boards, drawn, num)\n",
    "        if winners: \n",
    "            remaining_boards -= set(winners)\n",
    "            if not remaining_boards: \n",
    "                return calculate_score(winners[-1], drawn, num)\n",
    "\n",
    "def calculate_score(board, drawn, lastnum):\n",
    "        unmarked_sum = sum([num for num in board if num not in drawn])\n",
    "        return unmarked_sum * lastnum\n",
    "\n",
    "answer(4.2, 21070 , lambda: bingo2(numbers, boards))"
   ]
  },
  {
   "cell_type": "markdown",
   "metadata": {},
   "source": [
    "# Day 5"
   ]
  },
  {
   "cell_type": "code",
   "execution_count": 332,
   "metadata": {},
   "outputs": [
    {
     "data": {
      "text/plain": [
       "  .1152 seconds, answer: 5,608"
      ]
     },
     "execution_count": 332,
     "metadata": {},
     "output_type": "execute_result"
    }
   ],
   "source": [
    "class Segment(dict):\n",
    "    def __init__(self, a, b):\n",
    "        self.a = Point(a[0], a[1])\n",
    "        self.b = Point(b[0], b[1])\n",
    "\n",
    "    def __str__(self):\n",
    "        return f'{self.a}, {self.b}'\n",
    "\n",
    "class Point(dict):\n",
    "    def __init__(self, x, y):\n",
    "        self.x = int(x)\n",
    "        self.y = int(y)\n",
    "        \n",
    "    def __str__(self):\n",
    "        return f'({self.x}, {self.y})'\n",
    "\n",
    "\n",
    "def get_segment_points(seg):\n",
    "    if seg.a.x == seg.b.x:\n",
    "        x = seg.a.x\n",
    "        start, end = sorted([seg.a.y, seg.b.y])\n",
    "        return [(x,y) for y in range(start, end+1)]\n",
    "    elif seg.a.y == seg.b.y:\n",
    "        y = seg.a.y\n",
    "        start, end = sorted([seg.a.x, seg.b.x])\n",
    "        return [(x,y) for x in range(start, end+1)]\n",
    "\n",
    "\n",
    "def parser(text) -> Tuple[Tuple[int,int], Tuple[int,int]]:\n",
    "    a, b  = text.split(' -> ')\n",
    "    return Segment(a.split(','), b.split(','))\n",
    "\n",
    "\n",
    "def segments(segments):  \n",
    "    grid = {}\n",
    "    twos = 0\n",
    "    for segment in segments:\n",
    "        points = get_segment_points(segment)\n",
    "        if points:\n",
    "            for point in points:\n",
    "                if point in grid:\n",
    "                    if grid[point] == 1:\n",
    "                        twos += 1\n",
    "                    grid[point] = grid[point] + 1\n",
    "                else:\n",
    "                    grid[point] = 1\n",
    "    return twos\n",
    "                \n",
    "in5 = parse(5, parser=parser, show=0)\n",
    "\n",
    "answer(5.1, 5608 , lambda: segments(in5))"
   ]
  },
  {
   "cell_type": "code",
   "execution_count": 333,
   "metadata": {},
   "outputs": [
    {
     "data": {
      "text/plain": [
       "  .0856 seconds, answer: 5,608"
      ]
     },
     "execution_count": 333,
     "metadata": {},
     "output_type": "execute_result"
    }
   ],
   "source": [
    "def get_segment_points(seg):\n",
    "    x1, y1, x2, y2 = seg\n",
    "    if x1 == x2:\n",
    "        start, end = sorted([y1, y2])\n",
    "        return [(x1,y) for y in range(start, end+1)]\n",
    "    elif y1 == y2:\n",
    "        start, end = sorted([x1, x2])\n",
    "        return [(x,y1) for x in range(start, end+1)]\n",
    "#    elif abs(x2-x1) == abs(y2-y1):\n",
    "    else: \n",
    "        return []\n",
    "\n",
    "def segments(segments):  \n",
    "    grid = {}\n",
    "    twos = 0\n",
    "    for segment in segments:\n",
    "        points = get_segment_points(segment)\n",
    "        for point in points:\n",
    "            if point in grid:\n",
    "                if grid[point] == 1:\n",
    "                    twos += 1\n",
    "                grid[point] = grid[point] + 1\n",
    "            else:\n",
    "                grid[point] = 1\n",
    "    return twos\n",
    "                \n",
    "in5 = parse(5, ints, show=0)\n",
    "\n",
    "answer(5.1, 5608 , lambda: segments(in5))"
   ]
  },
  {
   "cell_type": "code",
   "execution_count": 334,
   "metadata": {},
   "outputs": [
    {
     "data": {
      "text/plain": [
       "  .1643 seconds, answer: 5,608"
      ]
     },
     "execution_count": 334,
     "metadata": {},
     "output_type": "execute_result"
    }
   ],
   "source": [
    "\n",
    "def get_points(segment):\n",
    "    x1,y1,x2,y2 = segment\n",
    "    if x1 == x2:\n",
    "        return [(x1, y) for y in cover(y1, y2)]\n",
    "    elif y1 == y2:\n",
    "        return [(x, y1) for x in cover(x1, x2)]\n",
    "    else:\n",
    "         return []\n",
    "        \n",
    "def segments2(segments):\n",
    "    counts = Counter(flatten(map(get_points, in5)))\n",
    "    return quantify(counts[p] >= 2 for p in counts)\n",
    "\n",
    "in5 = parse(5, ints, show=0)\n",
    "\n",
    "answer(5.1, 5608 , lambda: segments2(in5))"
   ]
  },
  {
   "cell_type": "code",
   "execution_count": 335,
   "metadata": {},
   "outputs": [
    {
     "data": {
      "text/plain": [
       "  .3516 seconds, answer: 20,299"
      ]
     },
     "execution_count": 335,
     "metadata": {},
     "output_type": "execute_result"
    }
   ],
   "source": [
    "\n",
    "def get_segment_points(seg):\n",
    "    x1, y1, x2, y2 = seg\n",
    "    if x1 == x2:\n",
    "        start, end = sorted([y1, y2])\n",
    "        return [(x1,y) for y in range(start, end+1)]\n",
    "    elif y1 == y2:\n",
    "        start, end = sorted([x1, x2])\n",
    "        return [(x,y1) for x in range(start, end+1)]\n",
    "    elif abs(x2-x1) == abs(y2-y1):\n",
    "        xsub = -1 if x2<x1 else 1\n",
    "        ysub = -1 if y2<y1 else 1\n",
    "        points =  [z for z in zip(range(x1, x2+xsub, xsub), range(y1, y2+ysub, ysub))]\n",
    "        return points\n",
    "\n",
    "def segments(segments):  \n",
    "    grid = {}\n",
    "    twos = 0\n",
    "    for segment in segments:\n",
    "        points = get_segment_points(segment)\n",
    "        for point in points:\n",
    "            if point in grid:\n",
    "                if grid[point] == 1:\n",
    "                    twos += 1\n",
    "                grid[point] = grid[point] + 1\n",
    "            else:\n",
    "                grid[point] = 1\n",
    "    return twos\n",
    "                \n",
    "in5 = parse(5, ints, show=0)\n",
    "\n",
    "answer(5.2, 20299 , lambda: segments(in5))"
   ]
  },
  {
   "cell_type": "markdown",
   "metadata": {},
   "source": [
    "# Day 6"
   ]
  },
  {
   "cell_type": "code",
   "execution_count": 337,
   "metadata": {},
   "outputs": [
    {
     "data": {
      "text/plain": [
       " 5.8449 seconds, answer: 350,605"
      ]
     },
     "execution_count": 337,
     "metadata": {},
     "output_type": "execute_result"
    }
   ],
   "source": [
    "in6 = parse(6, int, lambda text: text.split(','), show=0)\n",
    "\n",
    "def fish(fish):\n",
    "    fish = int(fish)\n",
    "    if fish == 0:\n",
    "        return [6,8]\n",
    "    else:\n",
    "        return [(fish-1)]\n",
    "\n",
    "def execute_day(fishlist):\n",
    "    return [f for f in flatten([fish(f) for f in fishlist])]\n",
    "\n",
    "def fish_pop(fishlist, days):\n",
    "    for day in range(days):\n",
    "        fishlist = execute_day(fishlist)\n",
    "    return len(fishlist)\n",
    "\n",
    "answer(6.1, 350605, lambda: fish_pop(in6, 80))"
   ]
  },
  {
   "cell_type": "code",
   "execution_count": 358,
   "metadata": {},
   "outputs": [
    {
     "data": {
      "text/plain": [
       "  .0197 seconds, answer: 1,592,778,185,024"
      ]
     },
     "execution_count": 358,
     "metadata": {},
     "output_type": "execute_result"
    }
   ],
   "source": [
    "def fish_pop(fishlist, days):\n",
    "    pop = Counter(fishlist)\n",
    "    for day in range(days):\n",
    "        pop = Counter({t-1: pop[t] for t in pop})\n",
    "        if -1 in pop:\n",
    "            pop[6] += pop[-1]\n",
    "            pop[8] = pop[-1]\n",
    "            pop[-1] = 0\n",
    "    return total(pop)\n",
    "\n",
    "in6 = parse(6, int, lambda text: text.split(','), show=0)\n",
    "answer(6.2, 1592778185024, lambda: fish_pop(in6, 256))\n"
   ]
  },
  {
   "cell_type": "markdown",
   "metadata": {},
   "source": [
    "# Day 7"
   ]
  },
  {
   "cell_type": "code",
   "execution_count": 7,
   "metadata": {},
   "outputs": [
    {
     "data": {
      "text/plain": [
       "  .0006 seconds, answer: 352,331"
      ]
     },
     "execution_count": 7,
     "metadata": {},
     "output_type": "execute_result"
    }
   ],
   "source": [
    "in7 = parse(7, int, lambda text: text.split(','), show=0)\n",
    "\n",
    "def crabs(positions):\n",
    "    med = int(median(positions))\n",
    "    return sum(map(lambda p: abs(p-med), positions))\n",
    "    \n",
    "answer(7.1, 352331, lambda: crabs(in7))"
   ]
  },
  {
   "cell_type": "code",
   "execution_count": 8,
   "metadata": {},
   "outputs": [
    {
     "data": {
      "text/plain": [
       "  .9274 seconds, answer: 99266250"
      ]
     },
     "execution_count": 8,
     "metadata": {},
     "output_type": "execute_result"
    }
   ],
   "source": [
    "in7 = parse(7, int, lambda text: text.split(','), show=0)\n",
    "import numpy as np\n",
    "\n",
    "def crabs2(positions):\n",
    "    m = max(positions)\n",
    "    c = [0] * (m+1)\n",
    "    cost = {i: gas + sum(range(0, gas)) for i, gas in enumerate(range(0, m+1))}\n",
    "    for pos in positions:\n",
    "        prices = [cost[abs(pos - i)] for i in range(0, m+1)]\n",
    "        c = np.add(c, prices)\n",
    "    return min(c)\n",
    "\n",
    "answer(7.2, 99266250, lambda: crabs2(in7))"
   ]
  },
  {
   "cell_type": "code",
   "execution_count": 9,
   "metadata": {},
   "outputs": [
    {
     "data": {
      "text/plain": [
       "  .3792 seconds, answer: 99266250"
      ]
     },
     "execution_count": 9,
     "metadata": {},
     "output_type": "execute_result"
    }
   ],
   "source": [
    "in7 = parse(7, int, lambda text: text.split(','), show=0)\n",
    "import numpy as np\n",
    "\n",
    "def crabs2(positions):\n",
    "    m = max(positions)\n",
    "    c = [0] * (m+1)\n",
    "    cost_list = [gas + sum(range(0, gas)) for gas in range(0, m+1)]\n",
    "    for pos in positions:\n",
    "        prices = cost_list[1:pos+1][::-1] + [0] + cost_list[1:m-pos+1]\n",
    "        c = np.add(c, prices)\n",
    "    return min(c)\n",
    "\n",
    "answer(7.2, 99266250, lambda: crabs2(in7))"
   ]
  },
  {
   "cell_type": "markdown",
   "metadata": {},
   "source": [
    "# Day 8"
   ]
  },
  {
   "cell_type": "code",
   "execution_count": 27,
   "metadata": {},
   "outputs": [
    {
     "name": "stdout",
     "output_type": "stream",
     "text": [
      "────────────────────────────────────────────────────────────────────────────────────────────────────\n",
      "Puzzle input ➜ 200 strs:\n",
      "────────────────────────────────────────────────────────────────────────────────────────────────────\n",
      "cbdfag bf ebgda cfead aecbgd dfbea dbafecg fab bgdaef fgeb | bf defbag efadgbc bfgeda\n",
      "defgac bfcedag fcaeb gefcb acdfe bfad bea ba acbedg cdebfa | abcfed adfb fdba ab\n",
      "aegbdc cdgbaf gb bacegdf cbeg bdgae dgb dagfe dcfbae cbdae | gcfdba cbeg becg bdg\n",
      "fdcag feabgc gefab ebcgdf cafbg cb dgfeba baec cgb dacegfb | eacb cb gbc bcg\n",
      "dbgec gdcae gbcfde dgba cfegba fceda cga becdag ga gacfedb | ag ag cag acg\n",
      "adfceb edcg fabegd bgfadec dg dag cbgfa fedac cfdage adgfc | gedc agd adg abcgf\n",
      "egbacdf dbgcf fd efcgdb gafbc dgfe dcf dbegc ebdfac bcdeag | bdgec facgb agfdbec agbcf\n",
      "ecbda dbcef agecfd fcgdeab gecbda fec cfgbd fe abef daecfb | fe ecf cef abef\n",
      "...\n",
      "────────────────────────────────────────────────────────────────────────────────────────────────────\n",
      "Parsed representation ➜ 200 tuples:\n",
      "────────────────────────────────────────────────────────────────────────────────────────────────────\n",
      "(('cbdfag', 'bf', 'ebgda', 'cfead', 'aecbgd', 'dfbea', 'dbafecg', 'fab', 'bgdaef', 'fgeb'), ('bf ...\n",
      "(('defgac', 'bfcedag', 'fcaeb', 'gefcb', 'acdfe', 'bfad', 'bea', 'ba', 'acbedg', 'cdebfa'), ('ab ...\n",
      "(('aegbdc', 'cdgbaf', 'gb', 'bacegdf', 'cbeg', 'bdgae', 'dgb', 'dagfe', 'dcfbae', 'cbdae'), ('gc ...\n",
      "(('fdcag', 'feabgc', 'gefab', 'ebcgdf', 'cafbg', 'cb', 'dgfeba', 'baec', 'cgb', 'dacegfb'), ('ea ...\n",
      "(('dbgec', 'gdcae', 'gbcfde', 'dgba', 'cfegba', 'fceda', 'cga', 'becdag', 'ga', 'gacfedb'), ('ag ...\n",
      "(('adfceb', 'edcg', 'fabegd', 'bgfadec', 'dg', 'dag', 'cbgfa', 'fedac', 'cfdage', 'adgfc'), ('ge ...\n",
      "(('egbacdf', 'dbgcf', 'fd', 'efcgdb', 'gafbc', 'dgfe', 'dcf', 'dbegc', 'ebdfac', 'bcdeag'), ('bd ...\n",
      "(('ecbda', 'dbcef', 'agecfd', 'fcgdeab', 'gecbda', 'fec', 'cfgbd', 'fe', 'abef', 'daecfb'), ('fe ...\n",
      "...\n"
     ]
    }
   ],
   "source": [
    "in8 = parse(8, lambda line: mapt(atoms, line.split('|')))"
   ]
  },
  {
   "cell_type": "code",
   "execution_count": 28,
   "metadata": {},
   "outputs": [
    {
     "data": {
      "text/plain": [
       "  .0005 seconds, answer: 532"
      ]
     },
     "execution_count": 28,
     "metadata": {},
     "output_type": "execute_result"
    }
   ],
   "source": [
    "\n",
    "def segments(inputs):\n",
    "    return quantify(len(s) in (2,4,3,7) for (patterns, output) in inputs for s in output)\n",
    "\n",
    "answer(8.1, 532, lambda: segments(in8))"
   ]
  },
  {
   "cell_type": "code",
   "execution_count": 56,
   "metadata": {},
   "outputs": [
    {
     "data": {
      "text/plain": [
       "  .0058 seconds, answer: 1,011,284"
      ]
     },
     "execution_count": 56,
     "metadata": {},
     "output_type": "execute_result"
    }
   ],
   "source": [
    "\n",
    "def segments(inputs):\n",
    "    total = 0\n",
    "    for patterns, output in inputs:\n",
    "        lookup = {}\n",
    "        \n",
    "        '''\n",
    "        2 : 1\n",
    "        3 : 7\n",
    "        4 : 4\n",
    "        5 : 2, 3, 5\n",
    "        6 : 0, 6, 9\n",
    "        7 : 8\n",
    "\n",
    "        3: size 5, contains 7\n",
    "        5: size 5, contains 4 segment not in 3\n",
    "        2: not 3, not 5\n",
    "        \n",
    "        6: size 6, does not contain char in 1 and 2\n",
    "        9: size 6, not 6, does not conttain 5\n",
    "        0: size 6, not 6, not 9\n",
    "        '''\n",
    "\n",
    "        fives = []\n",
    "        sixes = []\n",
    "\n",
    "        for pattern in patterns:\n",
    "            if len(pattern) == 2:\n",
    "                lookup[1] = set(pattern)\n",
    "            elif len(pattern) == 4:\n",
    "                lookup[4] = set(pattern)\n",
    "            elif len(pattern) == 3:\n",
    "                lookup[7] = set(pattern)\n",
    "            elif len(pattern) == 7:\n",
    "                lookup[8] = set(pattern)\n",
    "            elif len(pattern) == 5:\n",
    "                fives.append(set(pattern))\n",
    "            elif len(pattern) == 6:\n",
    "                sixes.append(set(pattern))\n",
    "\n",
    "        for five in fives:\n",
    "            if lookup[7].issubset(five): \n",
    "                lookup[3] = five\n",
    "                fives.remove(five)\n",
    "        \n",
    "        for five in fives:\n",
    "            if (lookup[4] - lookup[3]).issubset(five):\n",
    "                lookup[5] = five\n",
    "            else:\n",
    "                lookup[2] = five\n",
    "                \n",
    "        for six in sixes:\n",
    "            if not lookup[1].intersection(lookup[2]).issubset(six):\n",
    "                lookup[6] = six\n",
    "                sixes.remove(six)\n",
    "                \n",
    "        for six in sixes:\n",
    "            if lookup[5].issubset(six):\n",
    "                lookup[9] = six\n",
    "            else:\n",
    "                lookup[0] = six\n",
    "                \n",
    "        l = {frozenset(b):str(a) for a, b in lookup.items()}\n",
    "        result = ''.join([l[frozenset(num)] for num in output])\n",
    "        total += int(result)\n",
    "    return total\n",
    "\n",
    "\n",
    "answer(8.2, 1011284, lambda: segments(in8))"
   ]
  },
  {
   "cell_type": "markdown",
   "metadata": {},
   "source": [
    "# Day 9"
   ]
  },
  {
   "cell_type": "code",
   "execution_count": 48,
   "metadata": {},
   "outputs": [
    {
     "data": {
      "text/plain": [
       "  .0040 seconds, answer: 500"
      ]
     },
     "execution_count": 48,
     "metadata": {},
     "output_type": "execute_result"
    }
   ],
   "source": [
    "in9 = parse(9, lambda line: list(map(int, line)), show=0)\n",
    "\n",
    "def smoke(basin):\n",
    "    def left(rows, k):\n",
    "        return 9 if k == 0 else rows[1][k-1]\n",
    "    def right(rows, k):\n",
    "        return 9 if k == len(rows[0])-1 else rows[1][k+1]\n",
    "    def up(rows, k):\n",
    "        return rows[0][k]\n",
    "    def down(rows, k):\n",
    "        return rows[2][k]\n",
    "\n",
    "    risk = 0\n",
    "    for i in range(0, len(basin)):\n",
    "        rows = [basin[j] if j>=0 and j<len(basin) else [10] * len(basin[0]) for j in range(i-1, i+2) ]\n",
    "        for k, height in enumerate(rows[1]):\n",
    "            if height < left(rows, k) and height < right(rows, k) and height < up(rows, k) and height < down(rows, k):\n",
    "                risk += height +1\n",
    "    return risk\n",
    "\n",
    "answer(9.1, 500, lambda: smoke(in9))"
   ]
  },
  {
   "cell_type": "code",
   "execution_count": 24,
   "metadata": {},
   "outputs": [
    {
     "name": "stdout",
     "output_type": "stream",
     "text": [
      "...99..*...9...99*......9.*.99.....9.*9......9..*.....9.*9.9....*9.........99..9............9.......\n",
      ".....9....9...99.9...9.9..99........99.99*....99.....9..9...9.9.9.........9..9..9.....*....9...*...9\n",
      "*.....9..9....*...9.9.9..9......9....9...9......9..99..9.....99.9.............9.*9..........99...99.\n",
      ".99.999...9....9.9.9..9.9......*....9.....9....9999..99.9......9......*...9..999.9...........999..9.\n",
      "9..9999999.9...99......999.99......9.....99...999.....9*9....*..9.........9.999.9*9.......999...99..\n",
      "...9.9...9.*9.99........999..9....9........9.999.....999.9.......9..9...999999..9.9...9.9999.9..99.*\n",
      "...9.9*.9.999999.........9....99.9...*......9.9....*...9.9........99999..99999...9.9...9..9.....9.9.\n",
      "......999....9............9.*...9.........99...99....99...9.....9.9.99.99....99.....9.9..*9........9\n",
      "........9.....99....*....9.....99.9..99.9.9......9....9....9...9.9...9.......9.9.....9...9........9.\n",
      ".*.....999....9...........9...9..99.9..9.9..*.....9..9.....9..9......9......9..9*...99..9.9...*.....\n",
      ".......99.9.*..9..........9999..*..99.....9.....999.9*.....9.9........9....9....9....99.9...........\n",
      ".......99..9...9.99.....99..9.9...9........99....9.9........9.........9..*9......9.99*.999.9.....9..\n",
      "9.....9.....9...99.....9.......9.9.9.........9..9.........99*9.........9...99....99*.99.999.9.....99\n",
      "9..9.9.....99...99999.9.......999.............9999.......9.9.9....*...9....99.....9.9....9...9.9..99\n",
      "*9.99........9.9..9*.9.........999...........99.9.9.....9...99.........9..9.9......9..........9999.9\n",
      ".999.........99....99.9..*.....99......*......9....999.9....9...........9.9...*.....9....9.....9....\n",
      "9.9.9...*...999........9......99.9........9.99........99.....9..9......999..........9.........9.....\n",
      ".....9.....999........9.9.....9...9........99.9..*....9.......9.9.9.9.9.9..........9....*9.....9....\n",
      "......9.....9....*.......9...9.....9........9..9.....9.....*...9.9.9.9...9.9......9...9.9.9...9....9\n",
      ".......9.....9........9.9...9......99.9....9....9...9............9..*..9.9999.....99.9.9...999....*.\n",
      ".....99.....9..........9.9.9.....*9.999....9.....9...9.9......99.9......9....9...9.*9.......99......\n",
      "*....9......99.......99...999....9....*99.9.......99999.........9......9....9*9.9999........9.9.....\n",
      ".9..9.9...99999.9...9..9..*9.....9.......9...*..99..9999...9..99.9.9..9*....9..999..........9..9....\n",
      "9.999..9.9.9.999*9.9....99.99...9.........9....9....9.999999.9....9999...9.9.999.9999...*..9..*.9...\n",
      "9..9.9*.9.....99..9.....9.9.99.9.9.9......9...999......99...9.*9.9.9....9.9..9....99.......99..999.9\n",
      ".....999......9.9..99*99.....99...9......9...9.9...*....99....9.9...9..9...........99........99.999.\n",
      "..*....9..*..9...99..9.99.*..9.9...999...99.9..........999...9......9.9.9...........99......99...99*\n",
      ".....999..9..9...9......9...9....*.99...9999.9..........9.9.9.......99..9....*.....9.9...99.9....9.9\n",
      "....999.99.99...........9..999......99.999....9........99..999.....99*.9.9........9.*99.9..9..*.9...\n",
      "99.999..9..9............999.999......999.9....*99.....99....9999.....999..99....99..9..9...9...9....\n",
      ".9.99.......9.....*.9..999....9.....999...9...9999...99.......9.9*..99......9..9.9.9........999.....\n",
      "*99..9......9......9.99.9......999.999....99.9..9.9.99.9.....9..9..9........9.9...9999..*.....99....\n",
      "9.9..9....*.9.....9...9*.9......999.9...*...9......9...99........99.9........9..*..99......9.9......\n",
      ".....9.......9.9.9.....99.9....99.9.*999...9......9....9.9*......9...9........9...99.9......99......\n",
      "....9...9....99..99....99......9...9.9..99999...*9........99....9.....9*.....999.9....9...99.9.....*\n",
      "9...*9.9.9...99.9.9.....9..*..9.....9.....9.99...9........9.9..9.......9....99..9*.....999....9.....\n",
      "......9...9999.9.....*.9.....99.....9....9...9999....*.......9.9........9...9......9..99.9*....9....\n",
      ".....9.9....99..9.......9...9......99.........9.............999........999.9.9......99.9..99..999...\n",
      ".....9.......9..9..9.....9...9.....9.....*....99.........9.9...9........999...9.9...9.......999.9...\n",
      "9...9.........9..999....9...9....*9...9.........9.9......99........*.....9....*99..9.........99.99..\n",
      ".999...........9.*..9.9.9.99.....9.9...........9*99..9...999..9.........99.9..9.9.9.99..*.999.....9.\n",
      ".9.......*.....9...9..9999.999..9...9.9.......9....9.99.999.99...........99..9...9..9.9..9..9.....99\n",
      "..9............9..999.999..99.99.....999....99......9..9..9...9.........9*.99.9....9...99.........99\n",
      "...9..9......99..9.99999.9....9.......99.99.9.......9......9...9.......9999.9....*......99.........9\n",
      ".*..9.999....99.9...9999.......9.......99.*999.....9......9.9...9.9.9.999....9.........9......*..9.9\n",
      ".....9999.9.99.9.....9.........9.........99.9999999..........9*.9.999999......9.......9.............\n",
      ".......9.9999..99...9...........99.*....9....99.9............9...99.999.9......9...9.9*9........9..9\n",
      ".9999.9....99........9............9....9.....9...99...*....9.9.999...9....*...9.9..99...999......999\n",
      "9...99....9..........9.....*....99.....99.....99*9.99.......999...*.9........9...9.9.....99...9.9...\n",
      "99...9.....99....*...9..........9.....9.9.......9....9.....9.999.....99.......9...9....99..9..99....\n",
      ".9...9.....9......9.9.9........999...9.........9.9...99...9...99....9.9......9.....99.9.9...9.9.....\n",
      "......99*.9.9.9..9.9...99.......9.9..99....*..9........9.9.....999..9..9.9..9..*.....9......99.*....\n",
      "........9....9..9.....9.99.9...9...999.......99..*....999.......99.9....9..9..9.....9....*99999.....\n",
      ".........9..99.99........999..9....9*.9......999......99.....*...99...*..9.999...9999..9.9.9...99.99\n",
      "...*......99.*9..........99.99......9..999....9...9..9..9......99.9.......9...9..9*..99.9.......99..\n",
      ".........99.999.........99...*....99..9..9.9.999.9..9....99.....9.*9......9...9.9....9...........9.*\n",
      "..........9.9............9.........999....9.999.9.9.9....999...9.9..9.....999*.9.....9...........9..\n",
      ".......9.9...99.....*....9........9...9....*.9.....9.9.*9.99..9...99...99999.99......9..........99..\n",
      "..9.....9.....9...........9........9.9........99......99....99.....99.9...9...99....9......*......9.\n",
      "99.9..99.......9.........99..9....9...9.......9.........9...9.....9999.*.9.....9....99..........9999\n",
      ".9..9.9.........99.......9.99....999.*9......99..*....99..*.9....*.9....9.......9....999.........9..\n",
      "...9.9.....*....9.......9...9...999.9..9....9.........9....9.....99.9..99.......99..9.9.....9...9...\n",
      "......9.........99.9...9.....9.999...9.9...9...........9....9...9.9..99...........99...9...9.9.9....\n",
      ".......9.........999..9.*.....999...9.999...9.........9..9..9..9......99...........9...9999.*999....\n",
      "*....9999..9.....9*.99.99......9.......999.9*9......99..9.9..9.99......9....*.....9........99.......\n",
      "......99.99.9...9999.....99...9.........999...9.9...9.99...9.999........9........9...*....9......*..\n",
      ".9.9.9...9...9.999.99......99999.........99.9.9.99.9.*9.9...999...*....9........9..........9.9......\n",
      "..9999........99...9..*.....99..9.......99.99999999999.......9.......99.........9.9.......999.9.9.9.\n",
      "....9.9......999....99.....99.*..9.*.....9..9.99...9.9.......99.....9999.9.99.9999...99.999....9.9.9\n",
      "..99...9........9..9..9.9.9999..9.......9..9..9....9.9...*....999.....9.999..9...99.99.999.......9..\n",
      ".9..9..9.......9*.9....9.99.99.99......9...9...9......99.....9..9....9...9........99.9..99..........\n",
      "9.....9.9*......9.99.....9..9999.......9...9...9..*.....9....9..*9..9...9....*....9......99.........\n",
      "....*....9...9.999..9....9....999.....9.*9.9..9.......999...99....9.9.*9.........9.......99...*.....\n",
      ".........9..9999....9.*..9.....99....9..9.9.9..9.....99..9.9..9.9.99....9..9.....9.....99........9..\n",
      "9........9...99.9...99..9.9.*...99.99.99.....9.*9..9.9.9*.9....9.9.....999999...99......99........9.\n",
      "9...9...9...99........99.........99....9......9.9.9.9..99...9.9...9.9.9.99.99999..99*...9..........9\n",
      ".9.9...9.9.99........9999.......9.....9......99..9.......9.9.9.9...9.9..9...9.......9....99.......99\n",
      "*.999.9...9..9....*.....99.....9.......9*......9..9......99.......9.........9*.....9......9.......9.\n",
      "99..99........9.......999.999.9...*.....9.....99.9.99....99......9.9.........99....99.9..9.999...9..\n",
      "..*..9.......9......9.99.....9.........9......9.9*.9....9.9.....9..............9.9.9.9.99*..999.9...\n",
      "9...999.9..9*.9.....999.....9.........99...9.9...99.9*..9........9.....*.....9999.9.....9..9.999....\n",
      ".9.9.9.9.99.9..9...999...*...9.........9....9....9...9.999.....*..9.........99.9...9...99.99.9......\n",
      ".*9..9.......9..9.9.9.........9....9..9*99.9..*.9...9.9.9........999.......999..9.9.*....9....9.....\n",
      "....9.........9999...9........99..9.99..999..9.999.......9......9.9.99.9..99.......9....9.....99...*\n",
      "9..9........99..99..9..........999...999.99.9.9.9.........99...9....*.99...9........9...9.......9...\n",
      ".9..9...*...9.....9..9....9...9.....9.9..999.....9.......999..9.........9.9..........9.9......99....\n",
      "..9.9......9....99.*..9..999.9......9.....9...*...9*......999.99........99.....*....9.99.9.*.9.9....\n",
      "..9.9......9.*...9.....9.99.9...*....9....99...999.......999.9..99.9.....9.........9...9999.9...9..9\n",
      "*9.999...9.9......9...9999..........9.......9.9.99.....99..9......9.....99........9.....99.99....999\n",
      "9...999.9.999.....9.99.9..9........99........9..9.9...9....999.....9...9.*9......9.......9......9*.9\n",
      ".....9.9...9.....999....9.*9.........9*...999......9.9........9*....9999...9....9........9.....99.9.\n",
      "....9...*.9999..9.9....99...9.....9.9999..9.9.......999........9.9...99.99.9....99...*...9....9.9.9.\n",
      "...9.....9.999.99........9...9.9.9.99...99...........999.......99.9..9....9.9...999......9..*9...9..\n",
      "*.9.....9..999999........9....9999*9.9..9.............9..*......9..99.......99.9*9......9...9.......\n",
      "..999...9....999..........9.9.99..99.....9.....*.......9.......9..999....*.9.99...9.....9..9........\n",
      ".9.*9.99......9......*.....999.9....99..9............99.......9.....9.....9...9....9...99..99....*..\n",
      "9....9.9.......9..........99..........9..99.......9.9.....9..9.......9...999*.9...9.9.9..99.........\n",
      "99..9.........999......9.99............9*.9........9.999...9.9......999...999.9.99...9..*..9........\n",
      "9....9.9.......9........9..9..........9...9.......9...9...9.9..*.....999.999.9.9..*..9......9..9...9\n",
      "9.....9..*.....99...9.9.9.*.9...*.....9....9.99...9..*.9.9.............9999.........9......999.9....\n"
     ]
    },
    {
     "data": {
      "text/plain": [
       "  .0340 seconds, answer: 970,200"
      ]
     },
     "execution_count": 24,
     "metadata": {},
     "output_type": "execute_result"
    }
   ],
   "source": [
    "import math\n",
    "in9 = parse(9, lambda line: list(map(int, line)), show=0)\n",
    "\n",
    "def left(rows, k): return 9 if k == 0 else rows[1][k-1]\n",
    "def right(rows, k): return 9 if k == len(rows[0])-1 else rows[1][k+1]\n",
    "def up(rows, k): return rows[0][k]\n",
    "def down(rows, k): return rows[2][k]\n",
    "\n",
    "def get_lowest_points(basin):\n",
    "    lows = []\n",
    "    for i in range(0, len(basin)):\n",
    "        rows = [basin[j] if j>=0 and j<len(basin) else [10] * len(basin[0]) for j in range(i-1, i+2)]\n",
    "        for k, height in enumerate(rows[1]):\n",
    "            if height < left(rows, k) and height < right(rows, k) and height < up(rows, k) and height < down(rows, k):\n",
    "                lows.append((i,k))\n",
    "    return lows\n",
    "\n",
    "\n",
    "def smoke(basin):\n",
    "    def get(basin, point):\n",
    "        i, j = point[0], point[1]\n",
    "        invalid = (i<0 or i>=len(basin[0]) or j<0 or j>= len(basin)) or basin[i][j] in ['9', '.', '*']\n",
    "        return not invalid\n",
    "\n",
    "    def surround(p, basin):\n",
    "        area = 0\n",
    "        if get(basin, p):\n",
    "            basin[p[0]][p[1]] = '*' \n",
    "            area += 1\n",
    "\n",
    "        for point in [(p[0]+1, p[1]), (p[0], p[1]+1), (p[0]-1, p[1]), (p[0], p[1]-1)]:\n",
    "            if get(basin, point):\n",
    "                basin[point[0]][point[1]] = '.' \n",
    "                area += 1 + surround(point, basin)\n",
    "\n",
    "        return area\n",
    "        \n",
    "    points = get_lowest_points(basin)\n",
    "    basin = [[str(num) for num in row] for row in basin]\n",
    "    areas = [surround(point,basin) for point in points]\n",
    "\n",
    "    for row in basin:\n",
    "        print(''.join([r for r in row]))\n",
    "\n",
    "    return math.prod(sorted(areas, reverse=True)[0:3])\n",
    "\n",
    "answer(9.2, 970200,lambda: smoke(in9))"
   ]
  }
 ],
 "metadata": {
  "kernelspec": {
   "display_name": ".venv",
   "language": "python",
   "name": "python3"
  },
  "language_info": {
   "codemirror_mode": {
    "name": "ipython",
    "version": 3
   },
   "file_extension": ".py",
   "mimetype": "text/x-python",
   "name": "python",
   "nbconvert_exporter": "python",
   "pygments_lexer": "ipython3",
   "version": "3.9.1"
  },
  "orig_nbformat": 4
 },
 "nbformat": 4,
 "nbformat_minor": 2
}
